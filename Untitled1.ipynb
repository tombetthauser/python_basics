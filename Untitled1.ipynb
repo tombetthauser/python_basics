{
 "cells": [
  {
   "cell_type": "code",
   "execution_count": 1,
   "metadata": {},
   "outputs": [],
   "source": [
    "import pandas"
   ]
  },
  {
   "cell_type": "code",
   "execution_count": 2,
   "metadata": {},
   "outputs": [],
   "source": [
    "dt1=pandas.read_csv(\"sota.csv\")"
   ]
  },
  {
   "cell_type": "code",
   "execution_count": 7,
   "metadata": {},
   "outputs": [
    {
     "data": {
      "text/plain": [
       "104"
      ]
     },
     "execution_count": 7,
     "metadata": {},
     "output_type": "execute_result"
    }
   ],
   "source": [
    "len(dt1.columns)"
   ]
  },
  {
   "cell_type": "code",
   "execution_count": 8,
   "metadata": {},
   "outputs": [
    {
     "data": {
      "text/plain": [
       "99"
      ]
     },
     "execution_count": 8,
     "metadata": {},
     "output_type": "execute_result"
    }
   ],
   "source": [
    "len(dt1.index)"
   ]
  },
  {
   "cell_type": "code",
   "execution_count": 27,
   "metadata": {},
   "outputs": [
    {
     "data": {
      "text/plain": [
       "array(['2019/08/06 5:24:58 PM PDT', 'M', 'W', 'Prefer not to say',\n",
       "       '30 - 39 years old', 'Other artist / peer', 'Acid, techno, ink',\n",
       "       'Maybe', 'I was not important', '1 - 2', '0', '0', '$0',\n",
       "       'Artist run spaces', '0', nan, 'Other artist peers', '0', 'No',\n",
       "       'No', nan, '0', '0', '0', '0', '$0', 'Yes', 'I was not important',\n",
       "       'Online fans', 'Band camp ', '$250 - $500', 'Tapes, zines ',\n",
       "       'Generally positive', 'Bandcamp ', 'I was not important', '0', nan,\n",
       "       nan, 'Maybe', 'It was somewhat important', 'Never', nan,\n",
       "       '1 - 3 times per week', nan,\n",
       "       'I did not pay for any promotion this year', nan, nan, nan,\n",
       "       'Yes and I plan to continue', nan, 'Instagram', 'Sorta',\n",
       "       'Completely mixed up with living space',\n",
       "       'A desk / table etc. (less than 80 square feet)', '$0', '3',\n",
       "       '10 hours or more', 'Yeah ', 'Crafts related ', 'No', '0',\n",
       "       '$1 - $5,000', 'No', 'Yes', 'BFA', 'No', nan, 'Psu', nan, '$0',\n",
       "       '$0', 'Yerp', 'Lafayette ', 'Lafayette ', nan, 'Yes',\n",
       "       'I was not important', '1 - 2', '1 - 2', '0',\n",
       "       'Not sure / don’t recall', nan, nan, nan, nan, nan, nan, nan, nan,\n",
       "       nan, '20 - 30 minutes', 'Not sure / hard to say',\n",
       "       'I don’t believe so', 'Myself', 'Everyone else', 'No', nan, 'No',\n",
       "       'No', 'Hopeful the world will still exist ',\n",
       "       'Access to Peace / Quiet;Convenient Access to Nature;Affordability / Availability of Housing',\n",
       "       'Too long by 11 - 25 questions', 'Not sure / hard to say.', 'Yes'],\n",
       "      dtype=object)"
      ]
     },
     "execution_count": 27,
     "metadata": {},
     "output_type": "execute_result"
    }
   ],
   "source": [
    "dt1.to_numpy()[0]"
   ]
  },
  {
   "cell_type": "code",
   "execution_count": null,
   "metadata": {},
   "outputs": [],
   "source": []
  },
  {
   "cell_type": "code",
   "execution_count": null,
   "metadata": {},
   "outputs": [],
   "source": []
  },
  {
   "cell_type": "code",
   "execution_count": null,
   "metadata": {},
   "outputs": [],
   "source": []
  },
  {
   "cell_type": "code",
   "execution_count": null,
   "metadata": {},
   "outputs": [],
   "source": []
  },
  {
   "cell_type": "code",
   "execution_count": null,
   "metadata": {},
   "outputs": [],
   "source": []
  },
  {
   "cell_type": "code",
   "execution_count": null,
   "metadata": {},
   "outputs": [],
   "source": []
  },
  {
   "cell_type": "code",
   "execution_count": null,
   "metadata": {},
   "outputs": [],
   "source": []
  },
  {
   "cell_type": "code",
   "execution_count": null,
   "metadata": {},
   "outputs": [],
   "source": []
  },
  {
   "cell_type": "code",
   "execution_count": null,
   "metadata": {},
   "outputs": [],
   "source": []
  },
  {
   "cell_type": "code",
   "execution_count": null,
   "metadata": {},
   "outputs": [],
   "source": []
  },
  {
   "cell_type": "code",
   "execution_count": null,
   "metadata": {},
   "outputs": [],
   "source": []
  },
  {
   "cell_type": "code",
   "execution_count": null,
   "metadata": {},
   "outputs": [],
   "source": []
  },
  {
   "cell_type": "code",
   "execution_count": null,
   "metadata": {},
   "outputs": [],
   "source": []
  },
  {
   "cell_type": "code",
   "execution_count": null,
   "metadata": {},
   "outputs": [],
   "source": []
  },
  {
   "cell_type": "code",
   "execution_count": null,
   "metadata": {},
   "outputs": [],
   "source": []
  },
  {
   "cell_type": "code",
   "execution_count": null,
   "metadata": {},
   "outputs": [],
   "source": []
  },
  {
   "cell_type": "code",
   "execution_count": null,
   "metadata": {},
   "outputs": [],
   "source": []
  },
  {
   "cell_type": "code",
   "execution_count": 10,
   "metadata": {},
   "outputs": [],
   "source": [
    "import numpy"
   ]
  },
  {
   "cell_type": "code",
   "execution_count": null,
   "metadata": {},
   "outputs": [],
   "source": []
  }
 ],
 "metadata": {
  "kernelspec": {
   "display_name": "Python 3",
   "language": "python",
   "name": "python3"
  },
  "language_info": {
   "codemirror_mode": {
    "name": "ipython",
    "version": 3
   },
   "file_extension": ".py",
   "mimetype": "text/x-python",
   "name": "python",
   "nbconvert_exporter": "python",
   "pygments_lexer": "ipython3",
   "version": "3.7.7"
  }
 },
 "nbformat": 4,
 "nbformat_minor": 4
}
